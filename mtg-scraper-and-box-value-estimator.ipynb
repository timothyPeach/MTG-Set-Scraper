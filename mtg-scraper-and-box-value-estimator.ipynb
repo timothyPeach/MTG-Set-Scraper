{
 "cells": [
  {
   "cell_type": "code",
   "execution_count": 240,
   "metadata": {
    "collapsed": true
   },
   "outputs": [],
   "source": [
    "import requests\n",
    "import numpy as np\n",
    "import pandas as pd"
   ]
  },
  {
   "cell_type": "code",
   "execution_count": 241,
   "metadata": {
    "collapsed": true
   },
   "outputs": [],
   "source": [
    "#Currently this has been tested on all 5 of the different sets in Standard and it\n",
    "#works fine with those.  More testing soon!"
   ]
  },
  {
   "cell_type": "code",
   "execution_count": 242,
   "metadata": {
    "collapsed": true
   },
   "outputs": [],
   "source": [
    "def removePunctuationFromList(listPlz):\n",
    "    '''this function removes characters not supported by mtggoldfish.com.  As a note, they do support dashes.\n",
    "    This function may not be 100% accurate as of now due to lack of testing symbols.'''\n",
    "    lisk = listPlz[:]\n",
    "    punctuation = [\".\",\",\",\"'\",'\"',\"?\",\"!\",\"/\",\"%\",\"$\",\"#\",\"@\",\"^\",\"&\",\"(\",\")\",\"_\",\"+\",\"*\"]\n",
    "    for i in range(len(lisk)):\n",
    "        for p in punctuation:\n",
    "            lisk[i] = lisk[i].replace(p,\"\")\n",
    "    return lisk"
   ]
  },
  {
   "cell_type": "code",
   "execution_count": 243,
   "metadata": {
    "collapsed": true
   },
   "outputs": [],
   "source": [
    "def spacesToPlus(listPlz):\n",
    "    '''The URLS on mtggoldfish.com require plus-separated names for cards instead of space-separated ones.\n",
    "    Also, this function handles the weird cards that appear as Word1 // Word2 (Word#) on gatherer.wizards.com'''\n",
    "    lisk = listPlz[:]\n",
    "    #replacing regular spaces with +\n",
    "    for i in range(len(lisk)):\n",
    "        lisk[i] = lisk[i].replace(\" \",\"+\")\n",
    "        \n",
    "    # handling double plus exception    \n",
    "    for i in range(len(lisk)):\n",
    "        if \"++\" in lisk[i]:\n",
    "            lisk[i] = lisk[i].split(\"+\")[0]+\"+\"+lisk[i].split(\"+\")[2]\n",
    "    \n",
    "    # handling other part of double plus exception where the card name occurs twice.\n",
    "    removeList = []\n",
    "    for i in range(len(lisk)):\n",
    "        if lisk.count(lisk[i]) == 2 and lisk[i] not in removeList:\n",
    "            removeList.append(lisk[i])\n",
    "    for i in removeList:\n",
    "        lisk.remove(i)\n",
    "    return lisk"
   ]
  },
  {
   "cell_type": "code",
   "execution_count": 244,
   "metadata": {},
   "outputs": [],
   "source": [
    "def getRareAndMythicNames(setName):\n",
    "    '''this function takes one parameter, the name of the set you would like to evaluate booster box value for.\n",
    "    After you input the name of the set, it will grab all the names of the rares and mythics from\n",
    "    gatherer.wizards.com and output them into 2 lists, rareNames and mythicNames.'''\n",
    "    \n",
    "    #If their website is updated, these queries may not work and would need to be altered.\n",
    "    \n",
    "    #setName = \"Ixalan\"\n",
    "    rmList = [\"R\",\"M\"]\n",
    "    numCards = 0\n",
    "    cardNames = [[],[]]\n",
    "    for i in rmList:\n",
    "        URL = \"http://gatherer.wizards.com/Pages/Search/Default.aspx?action=advanced&set=+[%22\"+setName +\"%22]&rarity=+[\"+ i + \"]\"\n",
    "        r = requests.get(URL)\n",
    "        HTML = r.text\n",
    "        numCards = int(HTML.split('searchTermDisplay')[3].split(\"(\")[1].split(')')[0])\n",
    "        \n",
    "        for x in range(numCards):\n",
    "            tempName = HTML.split('</a></span> <span class=\"manaCost\">')[x].split('>')[-1]\n",
    "            #print(tempName)\n",
    "            cardNames[rmList.index(i)].append(tempName)\n",
    "        #print(cardNames)\n",
    "    #rareNames,mythicNames --> out -- these are for searching on mtggoldfish.com and will be altered.\n",
    "    rareNames = cardNames[0]\n",
    "    mythicNames = cardNames[1]\n",
    "    \n",
    "    #these are going to be the unaltered real names of the cards.\n",
    "    #rareList = cardNames[0][:]\n",
    "    #mythicList = cardNames[1][:]\n",
    "    \n",
    "    #removing punctuation\n",
    "    rareNames = removePunctuationFromList(rareNames)\n",
    "    mythicNames = removePunctuationFromList(mythicNames)\n",
    "    \n",
    "    #replacing \" \" with \"+\"\n",
    "    rareNames = spacesToPlus(rareNames)\n",
    "    mythicNames = spacesToPlus(mythicNames)\n",
    "    \n",
    "    #the first two here are altered name lists.  The last two are the unaltered, real names of the cards.\n",
    "    return rareNames, mythicNames#, rareList, mythicList"
   ]
  },
  {
   "cell_type": "code",
   "execution_count": 245,
   "metadata": {},
   "outputs": [],
   "source": [
    "def getCurrentCardValues(listOfCardNames,setName):\n",
    "    '''generalized function to grab all the current card prices for a list of card names.'''\n",
    "    cardPrices = []\n",
    "    for i in range(len(listOfCardNames)):\n",
    "        URL = 'https://www.mtggoldfish.com/price/'+setName+'/'+listOfCardNames[i]\n",
    "        r = requests.get(URL)\n",
    "        HTML = r.text\n",
    "        cardPrices.append(HTML.split(\"<div class='price-box-type'>PAPER</div>\")[1].split('price-box-price')[1].split('>')[1].split('<')[0])\n",
    "        #print(HTML.split(\"<div class='price-box-type'>PAPER</div>\")[1].split('price-box-price')[1].split('>')[1].split('<')[0])\n",
    "    return cardPrices"
   ]
  },
  {
   "cell_type": "code",
   "execution_count": 246,
   "metadata": {
    "collapsed": true
   },
   "outputs": [],
   "source": [
    "def setScraper(setName):\n",
    "    '''The main function! Enter a set name!\n",
    "    \n",
    "    This function will use all the above functions to pull an entire set of mtg card names\n",
    "    from gatherer.wizards.com, and then pull all the current prices from mtggoldfish.com, and output all of it\n",
    "    neatly into a pandas DataFrame for you!'''\n",
    "    rareNames, mythicNames = getRareAndMythicNames(setName)\n",
    "    #print(rareNames)\n",
    "    #print(mythicNames)\n",
    "    alteredSetName = setName.replace(\" \",\"+\")\n",
    "    #print(alteredSetName)\n",
    "    rarePrices = getCurrentCardValues(rareNames,alteredSetName)\n",
    "    mythicPrices = getCurrentCardValues(mythicNames,alteredSetName)\n",
    "    \n",
    "    for i in range(len(rarePrices)):\n",
    "        rarePrices[i] = float(rarePrices[i])\n",
    "        \n",
    "    for i in range(len(mythicPrices)):\n",
    "        mythicPrices[i] = float(mythicPrices[i])\n",
    "    \n",
    "    rareLabeler = [\"Rare\"]*len(rareNames)\n",
    "    mythicLabeler = [\"Mythic\"]*len(mythicNames)\n",
    "    \n",
    "    df = pd.DataFrame()\n",
    "    df[\"cardName\"] = rareNames+mythicNames\n",
    "    df[\"rarity\"] = rareLabeler+mythicLabeler\n",
    "    df[\"currentPrice\"] = rarePrices+mythicPrices\n",
    "    \n",
    "    return df"
   ]
  },
  {
   "cell_type": "code",
   "execution_count": 247,
   "metadata": {
    "collapsed": true
   },
   "outputs": [],
   "source": [
    "def averages(df):\n",
    "    '''function that returns the average rare and mythic values for the set. Once you run setScraper and have a\n",
    "    df saved as a variable, throw it in here to get averages.'''\n",
    "    averageRareValue = np.mean(df[df[\"rarity\"]==\"Rare\"][\"currentPrice\"].values)\n",
    "    averageMythicValue = np.mean(df[df[\"rarity\"]==\"Mythic\"][\"currentPrice\"].values)\n",
    "    return averageRareValue, averageMythicValue"
   ]
  },
  {
   "cell_type": "code",
   "execution_count": 248,
   "metadata": {
    "collapsed": true
   },
   "outputs": [],
   "source": [
    "def safeBoxValueEstimate(averageMythicsPerBox,averageRareValue,averageMythicValue,packsPerBox=36):\n",
    "    '''A function that takes the average value of the rares and mythics in a set, presumes 36 packs per box,\n",
    "    and asks for the average mythics per box for the set.  In Ixalan, for example, there are said to be less\n",
    "    mythics per box.  This is the one bit of outside knowledge you will need to have in order to\n",
    "    properly use this function.'''\n",
    "    mythics = averageMythicsPerBox\n",
    "    rares = packsPerBox - mythics\n",
    "    estimate = 0\n",
    "    estimate += (averageRareValue*rares)\n",
    "    estimate += (averageMythicValue*mythics)\n",
    "    return estimate"
   ]
  },
  {
   "cell_type": "code",
   "execution_count": 249,
   "metadata": {
    "collapsed": true
   },
   "outputs": [],
   "source": [
    "def setSummary(df,averageMythicsPerBox,packsPerBox=36):\n",
    "    ''' Main summary statistics for a set!\n",
    "    \n",
    "    A function that takes the average value of the rares and mythics in a set, presumes 36 packs per box,\n",
    "    and asks for the average mythics per box for the set.  In Ixalan, for example, there are said to be less\n",
    "    mythics per box.  This is the one bit of outside knowledge you will need to have in order to\n",
    "    properly use this function.  This one prints the averages and a conservative estimate for the average\n",
    "    value of a typical box, again presuming you're right about the average mythic count per box.'''\n",
    "    \n",
    "    averageRareValue, averageMythicValue = averages(df)\n",
    "    print(\"averageRareValue: \",\"$\"+str(averageRareValue))\n",
    "    print(\"averageMythicValue: \",\"$\"+str(averageMythicValue))\n",
    "    estimate = safeBoxValueEstimate(averageMythicsPerBox,averageRareValue,averageMythicValue)\n",
    "    print(\"estimated box value: \", \"$\"+str(estimate))"
   ]
  },
  {
   "cell_type": "code",
   "execution_count": 187,
   "metadata": {
    "collapsed": true
   },
   "outputs": [],
   "source": [
    "Ixalan = setScraper(\"Ixalan\")"
   ]
  },
  {
   "cell_type": "code",
   "execution_count": 273,
   "metadata": {},
   "outputs": [
    {
     "data": {
      "text/html": [
       "<div>\n",
       "<style>\n",
       "    .dataframe thead tr:only-child th {\n",
       "        text-align: right;\n",
       "    }\n",
       "\n",
       "    .dataframe thead th {\n",
       "        text-align: left;\n",
       "    }\n",
       "\n",
       "    .dataframe tbody tr th {\n",
       "        vertical-align: top;\n",
       "    }\n",
       "</style>\n",
       "<table border=\"1\" class=\"dataframe\">\n",
       "  <thead>\n",
       "    <tr style=\"text-align: right;\">\n",
       "      <th></th>\n",
       "      <th>cardName</th>\n",
       "      <th>rarity</th>\n",
       "      <th>currentPrice</th>\n",
       "    </tr>\n",
       "  </thead>\n",
       "  <tbody>\n",
       "    <tr>\n",
       "      <th>0</th>\n",
       "      <td>Adanto, the First Fort</td>\n",
       "      <td>Rare</td>\n",
       "      <td>3.23</td>\n",
       "    </tr>\n",
       "    <tr>\n",
       "      <th>1</th>\n",
       "      <td>Angrath's Marauders</td>\n",
       "      <td>Rare</td>\n",
       "      <td>0.31</td>\n",
       "    </tr>\n",
       "    <tr>\n",
       "      <th>2</th>\n",
       "      <td>Arcane Adaptation</td>\n",
       "      <td>Rare</td>\n",
       "      <td>0.61</td>\n",
       "    </tr>\n",
       "    <tr>\n",
       "      <th>3</th>\n",
       "      <td>Arguel's Blood Fast</td>\n",
       "      <td>Rare</td>\n",
       "      <td>1.02</td>\n",
       "    </tr>\n",
       "    <tr>\n",
       "      <th>4</th>\n",
       "      <td>Ashes of the Abhorrent</td>\n",
       "      <td>Rare</td>\n",
       "      <td>0.76</td>\n",
       "    </tr>\n",
       "  </tbody>\n",
       "</table>\n",
       "</div>"
      ],
      "text/plain": [
       "                 cardName rarity  currentPrice\n",
       "0  Adanto, the First Fort   Rare          3.23\n",
       "1     Angrath's Marauders   Rare          0.31\n",
       "2       Arcane Adaptation   Rare          0.61\n",
       "3     Arguel's Blood Fast   Rare          1.02\n",
       "4  Ashes of the Abhorrent   Rare          0.76"
      ]
     },
     "execution_count": 273,
     "metadata": {},
     "output_type": "execute_result"
    }
   ],
   "source": [
    "Ixalan.head()"
   ]
  },
  {
   "cell_type": "code",
   "execution_count": 200,
   "metadata": {},
   "outputs": [
    {
     "name": "stdout",
     "output_type": "stream",
     "text": [
      "averageRareValue:  $2.57066666667\n",
      "averageMythicValue:  $6.19647058824\n",
      "estimated box value:  $107.047215686\n"
     ]
    }
   ],
   "source": [
    "setSummary(Ixalan,4) # <--- second input is average mythics per box, this is outside knowledge you need to look up!\n",
    "#currently, 4 is a placeholder because mythics are supposed to be slightly less common in Ixalan, but I don't have\n",
    "# the real number right now."
   ]
  },
  {
   "cell_type": "code",
   "execution_count": 202,
   "metadata": {},
   "outputs": [],
   "source": [
    "Kaladesh = setScraper(\"Kaladesh\")"
   ]
  },
  {
   "cell_type": "code",
   "execution_count": 203,
   "metadata": {},
   "outputs": [
    {
     "data": {
      "text/html": [
       "<div>\n",
       "<style>\n",
       "    .dataframe thead tr:only-child th {\n",
       "        text-align: right;\n",
       "    }\n",
       "\n",
       "    .dataframe thead th {\n",
       "        text-align: left;\n",
       "    }\n",
       "\n",
       "    .dataframe tbody tr th {\n",
       "        vertical-align: top;\n",
       "    }\n",
       "</style>\n",
       "<table border=\"1\" class=\"dataframe\">\n",
       "  <thead>\n",
       "    <tr style=\"text-align: right;\">\n",
       "      <th></th>\n",
       "      <th>cardName</th>\n",
       "      <th>rarity</th>\n",
       "      <th>currentPrice</th>\n",
       "    </tr>\n",
       "  </thead>\n",
       "  <tbody>\n",
       "    <tr>\n",
       "      <th>0</th>\n",
       "      <td>Aetherflux Reservoir</td>\n",
       "      <td>Rare</td>\n",
       "      <td>0.82</td>\n",
       "    </tr>\n",
       "    <tr>\n",
       "      <th>1</th>\n",
       "      <td>Aethersquall Ancient</td>\n",
       "      <td>Rare</td>\n",
       "      <td>0.27</td>\n",
       "    </tr>\n",
       "    <tr>\n",
       "      <th>2</th>\n",
       "      <td>Aetherstorm Roc</td>\n",
       "      <td>Rare</td>\n",
       "      <td>0.26</td>\n",
       "    </tr>\n",
       "    <tr>\n",
       "      <th>3</th>\n",
       "      <td>Animation Module</td>\n",
       "      <td>Rare</td>\n",
       "      <td>0.49</td>\n",
       "    </tr>\n",
       "    <tr>\n",
       "      <th>4</th>\n",
       "      <td>Architect of the Untamed</td>\n",
       "      <td>Rare</td>\n",
       "      <td>0.29</td>\n",
       "    </tr>\n",
       "  </tbody>\n",
       "</table>\n",
       "</div>"
      ],
      "text/plain": [
       "                   cardName rarity  currentPrice\n",
       "0      Aetherflux Reservoir   Rare          0.82\n",
       "1      Aethersquall Ancient   Rare          0.27\n",
       "2           Aetherstorm Roc   Rare          0.26\n",
       "3          Animation Module   Rare          0.49\n",
       "4  Architect of the Untamed   Rare          0.29"
      ]
     },
     "execution_count": 203,
     "metadata": {},
     "output_type": "execute_result"
    }
   ],
   "source": [
    "Kaladesh.head()"
   ]
  },
  {
   "cell_type": "code",
   "execution_count": 207,
   "metadata": {},
   "outputs": [
    {
     "name": "stdout",
     "output_type": "stream",
     "text": [
      "averageRareValue:  $1.34763636364\n",
      "averageMythicValue:  $6.05470588235\n",
      "estimated box value:  $69.6967219251\n"
     ]
    }
   ],
   "source": [
    "setSummary(Kaladesh,4.5) #Assuming 1/8 packs have Mythics"
   ]
  },
  {
   "cell_type": "code",
   "execution_count": 251,
   "metadata": {},
   "outputs": [],
   "source": [
    "Amonkhet = setScraper(\"Amonkhet\")"
   ]
  },
  {
   "cell_type": "code",
   "execution_count": 252,
   "metadata": {},
   "outputs": [
    {
     "data": {
      "text/html": [
       "<div>\n",
       "<style>\n",
       "    .dataframe thead tr:only-child th {\n",
       "        text-align: right;\n",
       "    }\n",
       "\n",
       "    .dataframe thead th {\n",
       "        text-align: left;\n",
       "    }\n",
       "\n",
       "    .dataframe tbody tr th {\n",
       "        vertical-align: top;\n",
       "    }\n",
       "</style>\n",
       "<table border=\"1\" class=\"dataframe\">\n",
       "  <thead>\n",
       "    <tr style=\"text-align: right;\">\n",
       "      <th></th>\n",
       "      <th>cardName</th>\n",
       "      <th>rarity</th>\n",
       "      <th>currentPrice</th>\n",
       "    </tr>\n",
       "  </thead>\n",
       "  <tbody>\n",
       "    <tr>\n",
       "      <th>0</th>\n",
       "      <td>Anointed+Procession</td>\n",
       "      <td>Rare</td>\n",
       "      <td>7.95</td>\n",
       "    </tr>\n",
       "    <tr>\n",
       "      <th>1</th>\n",
       "      <td>Approach+of+the+Second+Sun</td>\n",
       "      <td>Rare</td>\n",
       "      <td>3.48</td>\n",
       "    </tr>\n",
       "    <tr>\n",
       "      <th>2</th>\n",
       "      <td>Archfiend+of+Ifnir</td>\n",
       "      <td>Rare</td>\n",
       "      <td>0.63</td>\n",
       "    </tr>\n",
       "    <tr>\n",
       "      <th>3</th>\n",
       "      <td>Aven+Mindcensor</td>\n",
       "      <td>Rare</td>\n",
       "      <td>0.67</td>\n",
       "    </tr>\n",
       "    <tr>\n",
       "      <th>4</th>\n",
       "      <td>Bounty+of+the+Luxa</td>\n",
       "      <td>Rare</td>\n",
       "      <td>0.41</td>\n",
       "    </tr>\n",
       "  </tbody>\n",
       "</table>\n",
       "</div>"
      ],
      "text/plain": [
       "                     cardName rarity  currentPrice\n",
       "0         Anointed+Procession   Rare          7.95\n",
       "1  Approach+of+the+Second+Sun   Rare          3.48\n",
       "2          Archfiend+of+Ifnir   Rare          0.63\n",
       "3             Aven+Mindcensor   Rare          0.67\n",
       "4          Bounty+of+the+Luxa   Rare          0.41"
      ]
     },
     "execution_count": 252,
     "metadata": {},
     "output_type": "execute_result"
    }
   ],
   "source": [
    "Amonkhet.head()"
   ]
  },
  {
   "cell_type": "code",
   "execution_count": 253,
   "metadata": {},
   "outputs": [
    {
     "name": "stdout",
     "output_type": "stream",
     "text": [
      "averageRareValue:  $1.49327272727\n",
      "averageMythicValue:  $5.60941176471\n",
      "estimated box value:  $72.2804438503\n"
     ]
    }
   ],
   "source": [
    "setSummary(Amonkhet,4.5)"
   ]
  },
  {
   "cell_type": "code",
   "execution_count": 260,
   "metadata": {},
   "outputs": [],
   "source": [
    "Hour = setScraper(\"Hour of Devastation\")"
   ]
  },
  {
   "cell_type": "code",
   "execution_count": 257,
   "metadata": {},
   "outputs": [
    {
     "data": {
      "text/html": [
       "<div>\n",
       "<style>\n",
       "    .dataframe thead tr:only-child th {\n",
       "        text-align: right;\n",
       "    }\n",
       "\n",
       "    .dataframe thead th {\n",
       "        text-align: left;\n",
       "    }\n",
       "\n",
       "    .dataframe tbody tr th {\n",
       "        vertical-align: top;\n",
       "    }\n",
       "</style>\n",
       "<table border=\"1\" class=\"dataframe\">\n",
       "  <thead>\n",
       "    <tr style=\"text-align: right;\">\n",
       "      <th></th>\n",
       "      <th>cardName</th>\n",
       "      <th>rarity</th>\n",
       "      <th>currentPrice</th>\n",
       "    </tr>\n",
       "  </thead>\n",
       "  <tbody>\n",
       "    <tr>\n",
       "      <th>0</th>\n",
       "      <td>Abandoned+Sarcophagus</td>\n",
       "      <td>Rare</td>\n",
       "      <td>0.38</td>\n",
       "    </tr>\n",
       "    <tr>\n",
       "      <th>1</th>\n",
       "      <td>Adorned+Pouncer</td>\n",
       "      <td>Rare</td>\n",
       "      <td>1.21</td>\n",
       "    </tr>\n",
       "    <tr>\n",
       "      <th>2</th>\n",
       "      <td>Ammit+Eternal</td>\n",
       "      <td>Rare</td>\n",
       "      <td>1.44</td>\n",
       "    </tr>\n",
       "    <tr>\n",
       "      <th>3</th>\n",
       "      <td>Angel+of+Condemnation</td>\n",
       "      <td>Rare</td>\n",
       "      <td>0.43</td>\n",
       "    </tr>\n",
       "    <tr>\n",
       "      <th>4</th>\n",
       "      <td>Apocalypse+Demon</td>\n",
       "      <td>Rare</td>\n",
       "      <td>0.32</td>\n",
       "    </tr>\n",
       "  </tbody>\n",
       "</table>\n",
       "</div>"
      ],
      "text/plain": [
       "                cardName rarity  currentPrice\n",
       "0  Abandoned+Sarcophagus   Rare          0.38\n",
       "1        Adorned+Pouncer   Rare          1.21\n",
       "2          Ammit+Eternal   Rare          1.44\n",
       "3  Angel+of+Condemnation   Rare          0.43\n",
       "4       Apocalypse+Demon   Rare          0.32"
      ]
     },
     "execution_count": 257,
     "metadata": {},
     "output_type": "execute_result"
    }
   ],
   "source": [
    "Hour.head()"
   ]
  },
  {
   "cell_type": "code",
   "execution_count": 259,
   "metadata": {},
   "outputs": [
    {
     "name": "stdout",
     "output_type": "stream",
     "text": [
      "averageRareValue:  $1.06954545455\n",
      "averageMythicValue:  $7.34285714286\n",
      "estimated box value:  $66.733538961\n"
     ]
    }
   ],
   "source": [
    "setSummary(Hour,4.5)"
   ]
  },
  {
   "cell_type": "code",
   "execution_count": 262,
   "metadata": {},
   "outputs": [],
   "source": [
    "Aether = setScraper(\"Aether Revolt\")"
   ]
  },
  {
   "cell_type": "code",
   "execution_count": 263,
   "metadata": {},
   "outputs": [
    {
     "data": {
      "text/html": [
       "<div>\n",
       "<style>\n",
       "    .dataframe thead tr:only-child th {\n",
       "        text-align: right;\n",
       "    }\n",
       "\n",
       "    .dataframe thead th {\n",
       "        text-align: left;\n",
       "    }\n",
       "\n",
       "    .dataframe tbody tr th {\n",
       "        vertical-align: top;\n",
       "    }\n",
       "</style>\n",
       "<table border=\"1\" class=\"dataframe\">\n",
       "  <thead>\n",
       "    <tr style=\"text-align: right;\">\n",
       "      <th></th>\n",
       "      <th>cardName</th>\n",
       "      <th>rarity</th>\n",
       "      <th>currentPrice</th>\n",
       "    </tr>\n",
       "  </thead>\n",
       "  <tbody>\n",
       "    <tr>\n",
       "      <th>0</th>\n",
       "      <td>Aethergeode+Miner</td>\n",
       "      <td>Rare</td>\n",
       "      <td>0.35</td>\n",
       "    </tr>\n",
       "    <tr>\n",
       "      <th>1</th>\n",
       "      <td>Aethersphere+Harvester</td>\n",
       "      <td>Rare</td>\n",
       "      <td>2.34</td>\n",
       "    </tr>\n",
       "    <tr>\n",
       "      <th>2</th>\n",
       "      <td>Aethertide+Whale</td>\n",
       "      <td>Rare</td>\n",
       "      <td>0.30</td>\n",
       "    </tr>\n",
       "    <tr>\n",
       "      <th>3</th>\n",
       "      <td>Aid+from+the+Cowl</td>\n",
       "      <td>Rare</td>\n",
       "      <td>0.29</td>\n",
       "    </tr>\n",
       "    <tr>\n",
       "      <th>4</th>\n",
       "      <td>Ajanis+Aid</td>\n",
       "      <td>Rare</td>\n",
       "      <td>0.31</td>\n",
       "    </tr>\n",
       "  </tbody>\n",
       "</table>\n",
       "</div>"
      ],
      "text/plain": [
       "                 cardName rarity  currentPrice\n",
       "0       Aethergeode+Miner   Rare          0.35\n",
       "1  Aethersphere+Harvester   Rare          2.34\n",
       "2        Aethertide+Whale   Rare          0.30\n",
       "3       Aid+from+the+Cowl   Rare          0.29\n",
       "4              Ajanis+Aid   Rare          0.31"
      ]
     },
     "execution_count": 263,
     "metadata": {},
     "output_type": "execute_result"
    }
   ],
   "source": [
    "Aether.head()"
   ]
  },
  {
   "cell_type": "code",
   "execution_count": 264,
   "metadata": {},
   "outputs": [
    {
     "name": "stdout",
     "output_type": "stream",
     "text": [
      "averageRareValue:  $1.64272727273\n",
      "averageMythicValue:  $3.68785714286\n",
      "estimated box value:  $68.3412662338\n"
     ]
    }
   ],
   "source": [
    "setSummary(Aether,4.5)"
   ]
  },
  {
   "cell_type": "markdown",
   "metadata": {},
   "source": [
    "### Now it's worth noting that 2 of these sets (Hour of Devastation and Amonkhet) have an exception that hasn't been accounted for (more research needs to be done.)  They are the ONLY sets to ever have very very rare cards called Invocations that you can sell for A LOT.  I can't include them right now though because I don't know how often they occur.\n",
    "\n",
    "### The safe bet though (in Standard sets) is Ixalan.  I'm not even accounting for holographic cards or uncommon cards and it is well above the purchase price of 88 at a whopping 107."
   ]
  },
  {
   "cell_type": "code",
   "execution_count": 267,
   "metadata": {},
   "outputs": [],
   "source": [
    "Eldritch = setScraper(\"Eldritch Moon\")"
   ]
  },
  {
   "cell_type": "code",
   "execution_count": 270,
   "metadata": {},
   "outputs": [
    {
     "name": "stdout",
     "output_type": "stream",
     "text": [
      "averageRareValue:  $1.0048\n",
      "averageMythicValue:  $5.0\n",
      "estimated box value:  $54.1512\n"
     ]
    }
   ],
   "source": [
    "setSummary(Eldritch,4.5)"
   ]
  },
  {
   "cell_type": "markdown",
   "metadata": {},
   "source": [
    "### Wow, Eldritch Moon boxes are going for 82 dollars online. What a ripoff!!"
   ]
  },
  {
   "cell_type": "code",
   "execution_count": null,
   "metadata": {
    "collapsed": true
   },
   "outputs": [],
   "source": []
  }
 ],
 "metadata": {
  "kernelspec": {
   "display_name": "Python 3",
   "language": "python",
   "name": "python3"
  },
  "language_info": {
   "codemirror_mode": {
    "name": "ipython",
    "version": 3
   },
   "file_extension": ".py",
   "mimetype": "text/x-python",
   "name": "python",
   "nbconvert_exporter": "python",
   "pygments_lexer": "ipython3",
   "version": "3.6.1"
  }
 },
 "nbformat": 4,
 "nbformat_minor": 2
}
